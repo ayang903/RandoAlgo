{
 "cells": [
  {
   "cell_type": "code",
   "execution_count": 30,
   "metadata": {},
   "outputs": [],
   "source": [
    "import random\n",
    "\n",
    "n_trials = 1_000_000\n",
    "\n",
    "# a \"success\" = a trial ending with at least two empty bins\n",
    "successes = 0\n",
    "\n",
    "for _ in range(n_trials):\n",
    "    # reset bins\n",
    "    bins = {\n",
    "        \"1\": 0,\n",
    "        \"2\": 0,\n",
    "        \"3\": 0,\n",
    "        \"4\": 0,\n",
    "        \"5\": 0,\n",
    "        \"6\": 0,\n",
    "        \"7\": 0,\n",
    "        \"8\": 0,\n",
    "        \"9\": 0,\n",
    "        \"10\": 0,\n",
    "    }\n",
    "    # drop ten balls\n",
    "    for i  in range(10):\n",
    "        rn = random.randint(1, 10)\n",
    "        bins[str(rn)] += 1\n",
    "\n",
    "    # count the number of empty bins\n",
    "    num_empty_bins = 0\n",
    "    for bin in bins:\n",
    "        if bins[bin] == 0:\n",
    "            num_empty_bins += 1\n",
    "\n",
    "    # increment successes if we have more than two empty bins\n",
    "    if num_empty_bins >= 2:\n",
    "        successes += 1\n"
   ]
  },
  {
   "cell_type": "code",
   "execution_count": 31,
   "metadata": {},
   "outputs": [
    {
     "data": {
      "text/plain": [
       "983237"
      ]
     },
     "execution_count": 31,
     "metadata": {},
     "output_type": "execute_result"
    }
   ],
   "source": [
    "successes"
   ]
  },
  {
   "cell_type": "code",
   "execution_count": 29,
   "metadata": {},
   "outputs": [
    {
     "name": "stdout",
     "output_type": "stream",
     "text": [
      "Probability of at least 2 empty bins: 0.983222\n"
     ]
    }
   ],
   "source": [
    "print(f\"Probability of at least 2 empty bins: {successes/n_trials}\")"
   ]
  }
 ],
 "metadata": {
  "kernelspec": {
   "display_name": "Python 3",
   "language": "python",
   "name": "python3"
  },
  "language_info": {
   "codemirror_mode": {
    "name": "ipython",
    "version": 3
   },
   "file_extension": ".py",
   "mimetype": "text/x-python",
   "name": "python",
   "nbconvert_exporter": "python",
   "pygments_lexer": "ipython3",
   "version": "3.11.6"
  }
 },
 "nbformat": 4,
 "nbformat_minor": 2
}
