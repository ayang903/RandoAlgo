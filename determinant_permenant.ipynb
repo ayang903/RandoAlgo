{
 "cells": [
  {
   "cell_type": "markdown",
   "metadata": {},
   "source": [
    "# Determinants and permanents and matching"
   ]
  },
  {
   "cell_type": "code",
   "execution_count": 85,
   "metadata": {},
   "outputs": [
    {
     "name": "stdout",
     "output_type": "stream",
     "text": [
      "permutation: (1, 2, 3, 4), sign: 1\n",
      "permutation: (1, 2, 4, 3), sign: -1\n",
      "permutation: (1, 3, 2, 4), sign: -1\n",
      "permutation: (1, 3, 4, 2), sign: 1\n",
      "permutation: (1, 4, 2, 3), sign: 1\n",
      "permutation: (1, 4, 3, 2), sign: -1\n",
      "permutation: (2, 1, 3, 4), sign: -1\n",
      "permutation: (2, 1, 4, 3), sign: 1\n",
      "permutation: (2, 3, 1, 4), sign: 1\n",
      "permutation: (2, 3, 4, 1), sign: -1\n",
      "permutation: (2, 4, 1, 3), sign: -1\n",
      "permutation: (2, 4, 3, 1), sign: 1\n",
      "permutation: (3, 1, 2, 4), sign: 1\n",
      "permutation: (3, 1, 4, 2), sign: -1\n",
      "permutation: (3, 2, 1, 4), sign: -1\n",
      "permutation: (3, 2, 4, 1), sign: 1\n",
      "permutation: (3, 4, 1, 2), sign: 1\n",
      "permutation: (3, 4, 2, 1), sign: -1\n",
      "permutation: (4, 1, 2, 3), sign: -1\n",
      "permutation: (4, 1, 3, 2), sign: 1\n",
      "permutation: (4, 2, 1, 3), sign: 1\n",
      "permutation: (4, 2, 3, 1), sign: -1\n",
      "permutation: (4, 3, 1, 2), sign: -1\n",
      "permutation: (4, 3, 2, 1), sign: 1\n"
     ]
    }
   ],
   "source": [
    "from itertools import permutations\n",
    "import numpy as np\n",
    "\n",
    "\n",
    "# this function just counts the number of swaps bubble sort takes to sort a permutation into ascending order.\n",
    "# used this as a guide:\n",
    "# https://stackoverflow.com/questions/29288367/how-to-count-number-of-swaps-in-a-bubble-sort#:~:text=In%20Bubble%20sort%2C%20the%20largest,that%20are%20smaller%20than%20it.\n",
    "def count_swaps(perm):\n",
    "    swaps = 0\n",
    "    for i in range(len(perm)):\n",
    "        for j in range(i + 1, len(perm)):\n",
    "            if perm[i] > perm[j]:\n",
    "                swaps += 1\n",
    "    return swaps\n",
    "\n",
    "# we call count_swaps and return 1 if the number of swaps is even and -1 if odd\n",
    "def permutation_sign(perm):\n",
    "    swaps = count_swaps(perm)\n",
    "    return -1 if swaps % 2 else 1\n",
    "\n",
    "start = [1, 2, 3, 4]\n",
    "\n",
    "# quickly generate all permutations \n",
    "all_perms = list(permutations(start))\n",
    "\n",
    "\n",
    "# example run:\n",
    "for perm in all_perms:\n",
    "    print(f\"permutation: {perm}, sign: {permutation_sign(perm)}\")\n"
   ]
  },
  {
   "cell_type": "code",
   "execution_count": 86,
   "metadata": {},
   "outputs": [],
   "source": [
    "# now to calculate Product term, we can take in the adjacency matrix and a single permutation\n",
    "# then multiply the n terms together according to the formula\n",
    "\n",
    "def permutation_product(matrix, permutation):\n",
    "    product = 1\n",
    "\n",
    "    # iterate through indices of permutation and multiply\n",
    "    for i, sigma_i in enumerate(permutation):\n",
    "        # print(f\"i: {i}, sigma_i: {sigma_i}, multiplier: {matrix[i, sigma_i]}\")\n",
    "        \n",
    "        # for example, if permutation is 4321, the indices in the adjacency matrix that we want are (indexing starting at 1)\n",
    "        # (1, 4) (2, 3) (3, 2) (4, 1), this is symmetric!\n",
    "        product *= matrix[i, sigma_i]\n",
    "    return product\n"
   ]
  },
  {
   "cell_type": "code",
   "execution_count": 87,
   "metadata": {},
   "outputs": [
    {
     "data": {
      "text/plain": [
       "-3"
      ]
     },
     "execution_count": 87,
     "metadata": {},
     "output_type": "execute_result"
    }
   ],
   "source": [
    "# put everything together in a function\n",
    "\n",
    "def determinant(matrix):\n",
    "    n = matrix.shape[0]\n",
    "    total_det = 0\n",
    "    for permutation in permutations(range(n)):\n",
    "        perm_sign = permutation_sign(permutation)\n",
    "        perm_prod = permutation_product(matrix, permutation)\n",
    "        total_det += perm_sign * perm_prod\n",
    "    return total_det\n",
    "\n",
    "\n",
    "# adjacency matrix for K4\n",
    "A = np.array([\n",
    "    [0, 1, 1, 1],\n",
    "    [1, 0, 1, 1],\n",
    "    [1, 1, 0, 1],\n",
    "    [1, 1, 1, 0]\n",
    "])\n",
    "\n",
    "\n",
    "det_A = determinant(A)\n",
    "det_A\n"
   ]
  },
  {
   "cell_type": "code",
   "execution_count": 88,
   "metadata": {},
   "outputs": [
    {
     "data": {
      "text/plain": [
       "9"
      ]
     },
     "execution_count": 88,
     "metadata": {},
     "output_type": "execute_result"
    }
   ],
   "source": [
    "# permanent is just determinant without the sign step\n",
    "def permanent(matrix):\n",
    "    n = matrix.shape[0]\n",
    "    total_perm = 0\n",
    "    for permutation in permutations(range(n)):\n",
    "        perm_prod = permutation_product(matrix, permutation)\n",
    "        total_perm += perm_prod\n",
    "    return total_perm\n",
    "\n",
    "A = np.array([\n",
    "    [0, 1, 1, 1],\n",
    "    [1, 0, 1, 1],\n",
    "    [1, 1, 0, 1],\n",
    "    [1, 1, 1, 0]\n",
    "])\n",
    "\n",
    "\n",
    "perm_A = permanent(A)\n",
    "perm_A"
   ]
  },
  {
   "cell_type": "markdown",
   "metadata": {},
   "source": [
    "## Alternatively, this is how to build the determinant equation without iterating through every single permutation on C4"
   ]
  },
  {
   "cell_type": "code",
   "execution_count": 95,
   "metadata": {},
   "outputs": [
    {
     "data": {
      "text/plain": [
       "(0, 0)"
      ]
     },
     "execution_count": 95,
     "metadata": {},
     "output_type": "execute_result"
    }
   ],
   "source": [
    "# Adjacency matrix for C4\n",
    "A = np.array([\n",
    "    [0, 1, 0, 1],\n",
    "    [1, 0, 1, 0],\n",
    "    [0, 1, 0, 1],\n",
    "    [1, 0, 1, 0]])\n",
    "\n",
    "det_eqn = (A[0,1]*A[1,0]*A[2,3]*A[3,2]) -(A[0, 1]*A[1, 2]*A[2, 3]*A[3,0]) - (A[0,3]*A[1,0]*A[2,1]*A[3,2]) + (A[0,3]*A[3,0]*A[1,2]*A[2,1])\n",
    "\n",
    "det_function = determinant(A)\n",
    "\n",
    "det_eqn, det_function # equal :)"
   ]
  },
  {
   "cell_type": "code",
   "execution_count": 99,
   "metadata": {},
   "outputs": [
    {
     "data": {
      "text/plain": [
       "(16, 16)"
      ]
     },
     "execution_count": 99,
     "metadata": {},
     "output_type": "execute_result"
    }
   ],
   "source": [
    "# pick some values for x_ij and find it's determinant using the function and the simplified equation\n",
    "\n",
    "a,b,c,d,e,f,g,h = 1,2,3,4,5,6,7,8\n",
    "\n",
    "A = np.array([\n",
    "    [0, a, 0, b],\n",
    "    [c, 0, d, 0],\n",
    "    [0, e, 0, f],\n",
    "    [g, 0, h, 0]])\n",
    "\n",
    "det_function = determinant(A)\n",
    "\n",
    "# now using the equation\n",
    "det_eqn = (A[0,1]*A[1,0]*A[2,3]*A[3,2]) -(A[0, 1]*A[1, 2]*A[2, 3]*A[3,0]) - (A[0,3]*A[1,0]*A[2,1]*A[3,2]) + (A[0,3]*A[3,0]*A[1,2]*A[2,1])\n",
    "\n",
    "det_function, det_eqn"
   ]
  },
  {
   "cell_type": "markdown",
   "metadata": {},
   "source": [
    "We have found some values where the determinant is nonzero, so there should exist a perfect matching! (Which there is in C4)"
   ]
  }
 ],
 "metadata": {
  "kernelspec": {
   "display_name": ".venv",
   "language": "python",
   "name": "python3"
  },
  "language_info": {
   "codemirror_mode": {
    "name": "ipython",
    "version": 3
   },
   "file_extension": ".py",
   "mimetype": "text/x-python",
   "name": "python",
   "nbconvert_exporter": "python",
   "pygments_lexer": "ipython3",
   "version": "3.11.6"
  }
 },
 "nbformat": 4,
 "nbformat_minor": 2
}
